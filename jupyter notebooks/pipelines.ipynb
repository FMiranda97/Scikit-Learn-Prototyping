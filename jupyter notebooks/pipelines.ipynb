{
 "cells": [
  {
   "cell_type": "code",
   "execution_count": 34,
   "metadata": {
    "collapsed": true,
    "pycharm": {
     "name": "#%%\n"
    }
   },
   "outputs": [],
   "source": [
    "from sklearn.model_selection import cross_validate\n",
    "from sklearn.naive_bayes import GaussianNB\n",
    "from sklearn.pipeline import Pipeline\n",
    "from sklearn.preprocessing import FunctionTransformer\n",
    "from data_initialization import get_data\n",
    "from feature_selection import filter_correlated\n",
    "from MDC import MDC\n",
    "pip = Pipeline(steps=[('corr', FunctionTransformer(filter_correlated, kw_args={'threshold': 0.9, 'limit':50})), ('mdc', MDC())])"
   ]
  },
  {
   "cell_type": "code",
   "execution_count": 35,
   "outputs": [
    {
     "name": "stdout",
     "output_type": "stream",
     "text": [
      "{'fit_time': array([0.98735929, 0.95743895, 0.95843649, 0.94148231, 0.93849063]), 'score_time': array([0.23640084, 0.24734092, 0.23337793, 0.23736715, 0.23437524]), 'test_score': array([0.57551463, 0.51007584, 0.50509209, 0.48949079, 0.56046814])}\n"
     ]
    }
   ],
   "source": [
    "X, y = get_data(\"b\", \"phone\", \"accel\")\n",
    "scores = cross_validate(pip, X, y, cv=5, n_jobs=-1)\n",
    "print(scores)\n",
    "\n"
   ],
   "metadata": {
    "collapsed": false,
    "pycharm": {
     "name": "#%%\n"
    }
   }
  }
 ],
 "metadata": {
  "kernelspec": {
   "display_name": "Python 3",
   "language": "python",
   "name": "python3"
  },
  "language_info": {
   "codemirror_mode": {
    "name": "ipython",
    "version": 2
   },
   "file_extension": ".py",
   "mimetype": "text/x-python",
   "name": "python",
   "nbconvert_exporter": "python",
   "pygments_lexer": "ipython2",
   "version": "2.7.6"
  }
 },
 "nbformat": 4,
 "nbformat_minor": 0
}