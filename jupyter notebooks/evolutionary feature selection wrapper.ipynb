{
 "cells": [
  {
   "cell_type": "code",
   "execution_count": 31,
   "metadata": {
    "collapsed": true
   },
   "outputs": [],
   "source": [
    "import os\n",
    "# os.chdir(\"..\")\n"
   ]
  },
  {
   "cell_type": "code",
   "execution_count": 32,
   "outputs": [
    {
     "name": "stdout",
     "output_type": "stream",
     "text": [
      "        X0     X2     X4   X6   X8     Y0     Y2     Y4        Y6        Y8  \\\n",
      "0    0.235  0.275  0.000  0.0  0.0  0.000  0.020  0.160  0.155779  0.357143   \n",
      "1    0.275  0.270  0.000  0.0  0.0  0.000  0.040  0.185  0.216080  0.357143   \n",
      "2    0.320  0.245  0.005  0.0  0.0  0.000  0.035  0.165  0.201005  0.333333   \n",
      "3    0.315  0.185  0.000  0.0  0.0  0.000  0.040  0.190  0.201005  0.309524   \n",
      "4    0.215  0.325  0.000  0.0  0.0  0.000  0.015  0.200  0.261307  0.238095   \n",
      "..     ...    ...    ...  ...  ...    ...    ...    ...       ...       ...   \n",
      "798  1.000  0.000  0.000  0.0  0.0  0.990  0.000  0.000  0.000000  0.000000   \n",
      "799  1.000  0.000  0.000  0.0  0.0  0.940  0.000  0.000  0.000000  0.000000   \n",
      "800  1.000  0.000  0.000  0.0  0.0  0.725  0.000  0.000  0.000000  0.000000   \n",
      "801  1.000  0.000  0.000  0.0  0.0  0.940  0.000  0.000  0.000000  0.000000   \n",
      "802  1.000  0.000  0.000  0.0  0.0  0.855  0.000  0.000  0.000000  0.000000   \n",
      "\n",
      "     ...    ZMFCC1    ZMFCC3    ZMFCC5    ZMFCC7    ZMFCC9   ZMFCC11  \\\n",
      "0    ...  0.712951  0.712951  0.712951  0.712951  0.712951  0.712951   \n",
      "1    ...  0.707614  0.707614  0.707614  0.707614  0.707614  0.707614   \n",
      "2    ...  0.710418  0.710418  0.710418  0.710418  0.710418  0.710419   \n",
      "3    ...  0.708545  0.708545  0.708545  0.708546  0.708545  0.708545   \n",
      "4    ...  0.698846  0.698846  0.698846  0.698846  0.698846  0.698846   \n",
      "..   ...       ...       ...       ...       ...       ...       ...   \n",
      "798  ...  0.485910  0.485910  0.485911  0.485910  0.485910  0.485910   \n",
      "799  ...  0.518070  0.518070  0.518070  0.518070  0.518070  0.518070   \n",
      "800  ...  0.577387  0.577387  0.577388  0.577387  0.577387  0.577387   \n",
      "801  ...  0.541807  0.541807  0.541807  0.541807  0.541807  0.541807   \n",
      "802  ...  0.585720  0.585720  0.585720  0.585720  0.585720  0.585720   \n",
      "\n",
      "        XYCOS     YZCOS     XZCOR  RESULTANT  \n",
      "0    0.224664  0.560675  0.582266   0.068203  \n",
      "1    0.183412  0.580745  0.607874   0.072846  \n",
      "2    0.170251  0.581077  0.636227   0.063370  \n",
      "3    0.143957  0.605006  0.601599   0.072057  \n",
      "4    0.232531  0.637916  0.619285   0.068224  \n",
      "..        ...       ...       ...        ...  \n",
      "798  0.982944  0.403948  0.860155   0.022316  \n",
      "799  0.982721  0.959506  0.179153   0.022602  \n",
      "800  0.971365  0.678954  0.654650   0.025132  \n",
      "801  0.966151  0.240983  0.906803   0.025118  \n",
      "802  0.985965  0.920424  0.291514   0.026213  \n",
      "\n",
      "[23074 rows x 46 columns]\n"
     ]
    }
   ],
   "source": [
    "import random\n",
    "import numpy as np\n",
    "from data_initialization import get_data\n",
    "from sklearn.tree import DecisionTreeClassifier\n",
    "from sklearn.model_selection import cross_val_score\n",
    "\n",
    "X, y = get_data(\"b\", \"phone\", \"accel\")\n",
    "\n",
    "model = DecisionTreeClassifier()\n",
    "# print(np.mean(cross_val_score(model, X, y, cv=3)))\n",
    "\n",
    "individual = [True if i%2 == 0 else False for i in range(91)]\n",
    "print(X.iloc[:, individual])\n"
   ],
   "metadata": {
    "collapsed": false,
    "pycharm": {
     "name": "#%%\n"
    }
   }
  },
  {
   "cell_type": "code",
   "execution_count": 2,
   "outputs": [
    {
     "name": "stderr",
     "output_type": "stream",
     "text": [
      "Traceback (most recent call last):\n",
      "  File \"_pydevd_bundle\\pydevd_cython_win32_39_64.pyx\", line 1589, in _pydevd_bundle.pydevd_cython_win32_39_64.ThreadTracer.__call__\n",
      "  File \"_pydevd_bundle\\pydevd_cython_win32_39_64.pyx\", line 756, in _pydevd_bundle.pydevd_cython_win32_39_64.PyDBFrame.trace_dispatch\n",
      "  File \"C:\\Users\\bruge\\AppData\\Local\\JetBrains\\Toolbox\\apps\\PyCharm-P\\ch-0\\203.7148.72\\plugins\\python\\helpers-pro\\jupyter_debug\\pydev_jupyter_plugin.py\", line 92, in can_not_skip\n",
      "    if step_cmd == 108 and _is_equals(frame, _get_stop_frame(info)):\n",
      "  File \"C:\\Users\\bruge\\AppData\\Local\\JetBrains\\Toolbox\\apps\\PyCharm-P\\ch-0\\203.7148.72\\plugins\\python\\helpers-pro\\jupyter_debug\\pydev_jupyter_plugin.py\", line 124, in _is_equals\n",
      "    return frame.f_code.co_filename == other_frame.f_code.co_filename and \\\n",
      "AttributeError: 'NoneType' object has no attribute 'f_code'\n",
      "Traceback (most recent call last):\n",
      "  File \"_pydevd_bundle\\pydevd_cython_win32_39_64.pyx\", line 1589, in _pydevd_bundle.pydevd_cython_win32_39_64.ThreadTracer.__call__\n",
      "  File \"_pydevd_bundle\\pydevd_cython_win32_39_64.pyx\", line 756, in _pydevd_bundle.pydevd_cython_win32_39_64.PyDBFrame.trace_dispatch\n",
      "  File \"C:\\Users\\bruge\\AppData\\Local\\JetBrains\\Toolbox\\apps\\PyCharm-P\\ch-0\\203.7148.72\\plugins\\python\\helpers-pro\\jupyter_debug\\pydev_jupyter_plugin.py\", line 92, in can_not_skip\n",
      "    if step_cmd == 108 and _is_equals(frame, _get_stop_frame(info)):\n",
      "  File \"C:\\Users\\bruge\\AppData\\Local\\JetBrains\\Toolbox\\apps\\PyCharm-P\\ch-0\\203.7148.72\\plugins\\python\\helpers-pro\\jupyter_debug\\pydev_jupyter_plugin.py\", line 124, in _is_equals\n",
      "    return frame.f_code.co_filename == other_frame.f_code.co_filename and \\\n",
      "AttributeError: 'NoneType' object has no attribute 'f_code'\n",
      "Traceback (most recent call last):\n",
      "  File \"_pydevd_bundle\\pydevd_cython_win32_39_64.pyx\", line 1589, in _pydevd_bundle.pydevd_cython_win32_39_64.ThreadTracer.__call__\n",
      "  File \"_pydevd_bundle\\pydevd_cython_win32_39_64.pyx\", line 756, in _pydevd_bundle.pydevd_cython_win32_39_64.PyDBFrame.trace_dispatch\n",
      "  File \"C:\\Users\\bruge\\AppData\\Local\\JetBrains\\Toolbox\\apps\\PyCharm-P\\ch-0\\203.7148.72\\plugins\\python\\helpers-pro\\jupyter_debug\\pydev_jupyter_plugin.py\", line 92, in can_not_skip\n",
      "    if step_cmd == 108 and _is_equals(frame, _get_stop_frame(info)):\n",
      "  File \"C:\\Users\\bruge\\AppData\\Local\\JetBrains\\Toolbox\\apps\\PyCharm-P\\ch-0\\203.7148.72\\plugins\\python\\helpers-pro\\jupyter_debug\\pydev_jupyter_plugin.py\", line 124, in _is_equals\n",
      "    return frame.f_code.co_filename == other_frame.f_code.co_filename and \\\n",
      "AttributeError: 'NoneType' object has no attribute 'f_code'\n",
      "Traceback (most recent call last):\n",
      "  File \"_pydevd_bundle\\pydevd_cython_win32_39_64.pyx\", line 1589, in _pydevd_bundle.pydevd_cython_win32_39_64.ThreadTracer.__call__\n",
      "  File \"_pydevd_bundle\\pydevd_cython_win32_39_64.pyx\", line 756, in _pydevd_bundle.pydevd_cython_win32_39_64.PyDBFrame.trace_dispatch\n",
      "  File \"C:\\Users\\bruge\\AppData\\Local\\JetBrains\\Toolbox\\apps\\PyCharm-P\\ch-0\\203.7148.72\\plugins\\python\\helpers-pro\\jupyter_debug\\pydev_jupyter_plugin.py\", line 92, in can_not_skip\n",
      "    if step_cmd == 108 and _is_equals(frame, _get_stop_frame(info)):\n",
      "  File \"C:\\Users\\bruge\\AppData\\Local\\JetBrains\\Toolbox\\apps\\PyCharm-P\\ch-0\\203.7148.72\\plugins\\python\\helpers-pro\\jupyter_debug\\pydev_jupyter_plugin.py\", line 124, in _is_equals\n",
      "    return frame.f_code.co_filename == other_frame.f_code.co_filename and \\\n",
      "AttributeError: 'NoneType' object has no attribute 'f_code'\n",
      "Traceback (most recent call last):\n",
      "  File \"_pydevd_bundle\\pydevd_cython_win32_39_64.pyx\", line 1589, in _pydevd_bundle.pydevd_cython_win32_39_64.ThreadTracer.__call__\n",
      "  File \"_pydevd_bundle\\pydevd_cython_win32_39_64.pyx\", line 756, in _pydevd_bundle.pydevd_cython_win32_39_64.PyDBFrame.trace_dispatch\n",
      "  File \"C:\\Users\\bruge\\AppData\\Local\\JetBrains\\Toolbox\\apps\\PyCharm-P\\ch-0\\203.7148.72\\plugins\\python\\helpers-pro\\jupyter_debug\\pydev_jupyter_plugin.py\", line 92, in can_not_skip\n",
      "    if step_cmd == 108 and _is_equals(frame, _get_stop_frame(info)):\n",
      "  File \"C:\\Users\\bruge\\AppData\\Local\\JetBrains\\Toolbox\\apps\\PyCharm-P\\ch-0\\203.7148.72\\plugins\\python\\helpers-pro\\jupyter_debug\\pydev_jupyter_plugin.py\", line 124, in _is_equals\n",
      "    return frame.f_code.co_filename == other_frame.f_code.co_filename and \\\n",
      "AttributeError: 'NoneType' object has no attribute 'f_code'\n"
     ]
    },
    {
     "ename": "AttributeError",
     "evalue": "'NoneType' object has no attribute 'f_code'",
     "output_type": "error",
     "traceback": [
      "\u001B[1;31m---------------------------------------------------------------------------\u001B[0m",
      "\u001B[1;31mAttributeError\u001B[0m                            Traceback (most recent call last)",
      "\u001B[1;32mC:\\Program Files\\WindowsApps\\PythonSoftwareFoundation.Python.3.9_3.9.496.0_x64__qbz5n2kfra8p0\\lib\\contextlib.py\u001B[0m in \u001B[0;36m__enter__\u001B[1;34m(self)\u001B[0m\n\u001B[0;32m    115\u001B[0m         \u001B[1;32mdel\u001B[0m \u001B[0mself\u001B[0m\u001B[1;33m.\u001B[0m\u001B[0margs\u001B[0m\u001B[1;33m,\u001B[0m \u001B[0mself\u001B[0m\u001B[1;33m.\u001B[0m\u001B[0mkwds\u001B[0m\u001B[1;33m,\u001B[0m \u001B[0mself\u001B[0m\u001B[1;33m.\u001B[0m\u001B[0mfunc\u001B[0m\u001B[1;33m\u001B[0m\u001B[1;33m\u001B[0m\u001B[0m\n\u001B[0;32m    116\u001B[0m         \u001B[1;32mtry\u001B[0m\u001B[1;33m:\u001B[0m\u001B[1;33m\u001B[0m\u001B[1;33m\u001B[0m\u001B[0m\n\u001B[1;32m--> 117\u001B[1;33m             \u001B[1;32mreturn\u001B[0m \u001B[0mnext\u001B[0m\u001B[1;33m(\u001B[0m\u001B[0mself\u001B[0m\u001B[1;33m.\u001B[0m\u001B[0mgen\u001B[0m\u001B[1;33m)\u001B[0m\u001B[1;33m\u001B[0m\u001B[1;33m\u001B[0m\u001B[0m\n\u001B[0m\u001B[0;32m    118\u001B[0m         \u001B[1;32mexcept\u001B[0m \u001B[0mStopIteration\u001B[0m\u001B[1;33m:\u001B[0m\u001B[1;33m\u001B[0m\u001B[1;33m\u001B[0m\u001B[0m\n\u001B[0;32m    119\u001B[0m             \u001B[1;32mraise\u001B[0m \u001B[0mRuntimeError\u001B[0m\u001B[1;33m(\u001B[0m\u001B[1;34m\"generator didn't yield\"\u001B[0m\u001B[1;33m)\u001B[0m \u001B[1;32mfrom\u001B[0m \u001B[1;32mNone\u001B[0m\u001B[1;33m\u001B[0m\u001B[1;33m\u001B[0m\u001B[0m\n",
      "\u001B[1;32mc:\\users\\bruge\\pycharmprojects\\venv\\lib\\site-packages\\IPython\\core\\compilerop.py\u001B[0m in \u001B[0;36mextra_flags\u001B[1;34m(self, flags)\u001B[0m\n\u001B[0;32m    139\u001B[0m     \u001B[1;32mdef\u001B[0m \u001B[0mextra_flags\u001B[0m\u001B[1;33m(\u001B[0m\u001B[0mself\u001B[0m\u001B[1;33m,\u001B[0m \u001B[0mflags\u001B[0m\u001B[1;33m)\u001B[0m\u001B[1;33m:\u001B[0m\u001B[1;33m\u001B[0m\u001B[1;33m\u001B[0m\u001B[0m\n\u001B[0;32m    140\u001B[0m         \u001B[1;31m## bits that we'll set to 1\u001B[0m\u001B[1;33m\u001B[0m\u001B[1;33m\u001B[0m\u001B[1;33m\u001B[0m\u001B[0m\n\u001B[1;32m--> 141\u001B[1;33m         \u001B[0mturn_on_bits\u001B[0m \u001B[1;33m=\u001B[0m \u001B[1;33m~\u001B[0m\u001B[0mself\u001B[0m\u001B[1;33m.\u001B[0m\u001B[0mflags\u001B[0m \u001B[1;33m&\u001B[0m \u001B[0mflags\u001B[0m\u001B[1;33m\u001B[0m\u001B[1;33m\u001B[0m\u001B[0m\n\u001B[0m\u001B[0;32m    142\u001B[0m \u001B[1;33m\u001B[0m\u001B[0m\n\u001B[0;32m    143\u001B[0m \u001B[1;33m\u001B[0m\u001B[0m\n",
      "\u001B[1;32mc:\\users\\bruge\\pycharmprojects\\venv\\lib\\site-packages\\IPython\\core\\compilerop.py\u001B[0m in \u001B[0;36mextra_flags\u001B[1;34m(self, flags)\u001B[0m\n\u001B[0;32m    139\u001B[0m     \u001B[1;32mdef\u001B[0m \u001B[0mextra_flags\u001B[0m\u001B[1;33m(\u001B[0m\u001B[0mself\u001B[0m\u001B[1;33m,\u001B[0m \u001B[0mflags\u001B[0m\u001B[1;33m)\u001B[0m\u001B[1;33m:\u001B[0m\u001B[1;33m\u001B[0m\u001B[1;33m\u001B[0m\u001B[0m\n\u001B[0;32m    140\u001B[0m         \u001B[1;31m## bits that we'll set to 1\u001B[0m\u001B[1;33m\u001B[0m\u001B[1;33m\u001B[0m\u001B[1;33m\u001B[0m\u001B[0m\n\u001B[1;32m--> 141\u001B[1;33m         \u001B[0mturn_on_bits\u001B[0m \u001B[1;33m=\u001B[0m \u001B[1;33m~\u001B[0m\u001B[0mself\u001B[0m\u001B[1;33m.\u001B[0m\u001B[0mflags\u001B[0m \u001B[1;33m&\u001B[0m \u001B[0mflags\u001B[0m\u001B[1;33m\u001B[0m\u001B[1;33m\u001B[0m\u001B[0m\n\u001B[0m\u001B[0;32m    142\u001B[0m \u001B[1;33m\u001B[0m\u001B[0m\n\u001B[0;32m    143\u001B[0m \u001B[1;33m\u001B[0m\u001B[0m\n",
      "\u001B[1;32m_pydevd_bundle\\pydevd_cython_win32_39_64.pyx\u001B[0m in \u001B[0;36m_pydevd_bundle.pydevd_cython_win32_39_64.SafeCallWrapper.__call__\u001B[1;34m()\u001B[0m\n",
      "\u001B[1;32m_pydevd_bundle\\pydevd_cython_win32_39_64.pyx\u001B[0m in \u001B[0;36m_pydevd_bundle.pydevd_cython_win32_39_64.PyDBFrame.trace_dispatch\u001B[1;34m()\u001B[0m\n",
      "\u001B[1;32m_pydevd_bundle\\pydevd_cython_win32_39_64.pyx\u001B[0m in \u001B[0;36m_pydevd_bundle.pydevd_cython_win32_39_64.PyDBFrame.trace_dispatch\u001B[1;34m()\u001B[0m\n",
      "\u001B[1;32m~\\AppData\\Local\\JetBrains\\Toolbox\\apps\\PyCharm-P\\ch-0\\203.7148.72\\plugins\\python\\helpers-pro\\jupyter_debug\\pydev_jupyter_plugin.py\u001B[0m in \u001B[0;36mcan_not_skip\u001B[1;34m(plugin, pydb, pydb_frame, frame, info)\u001B[0m\n\u001B[0;32m     90\u001B[0m \u001B[1;32mdef\u001B[0m \u001B[0mcan_not_skip\u001B[0m\u001B[1;33m(\u001B[0m\u001B[0mplugin\u001B[0m\u001B[1;33m,\u001B[0m \u001B[0mpydb\u001B[0m\u001B[1;33m,\u001B[0m \u001B[0mpydb_frame\u001B[0m\u001B[1;33m,\u001B[0m \u001B[0mframe\u001B[0m\u001B[1;33m,\u001B[0m \u001B[0minfo\u001B[0m\u001B[1;33m)\u001B[0m\u001B[1;33m:\u001B[0m\u001B[1;33m\u001B[0m\u001B[1;33m\u001B[0m\u001B[0m\n\u001B[0;32m     91\u001B[0m     \u001B[0mstep_cmd\u001B[0m \u001B[1;33m=\u001B[0m \u001B[0minfo\u001B[0m\u001B[1;33m.\u001B[0m\u001B[0mpydev_step_cmd\u001B[0m\u001B[1;33m\u001B[0m\u001B[1;33m\u001B[0m\u001B[0m\n\u001B[1;32m---> 92\u001B[1;33m     \u001B[1;32mif\u001B[0m \u001B[0mstep_cmd\u001B[0m \u001B[1;33m==\u001B[0m \u001B[1;36m108\u001B[0m \u001B[1;32mand\u001B[0m \u001B[0m_is_equals\u001B[0m\u001B[1;33m(\u001B[0m\u001B[0mframe\u001B[0m\u001B[1;33m,\u001B[0m \u001B[0m_get_stop_frame\u001B[0m\u001B[1;33m(\u001B[0m\u001B[0minfo\u001B[0m\u001B[1;33m)\u001B[0m\u001B[1;33m)\u001B[0m\u001B[1;33m:\u001B[0m\u001B[1;33m\u001B[0m\u001B[1;33m\u001B[0m\u001B[0m\n\u001B[0m\u001B[0;32m     93\u001B[0m         \u001B[1;32mreturn\u001B[0m \u001B[1;32mTrue\u001B[0m\u001B[1;33m\u001B[0m\u001B[1;33m\u001B[0m\u001B[0m\n\u001B[0;32m     94\u001B[0m     \u001B[1;32mif\u001B[0m \u001B[0mpydb\u001B[0m\u001B[1;33m.\u001B[0m\u001B[0mjupyter_breakpoints\u001B[0m\u001B[1;33m:\u001B[0m\u001B[1;33m\u001B[0m\u001B[1;33m\u001B[0m\u001B[0m\n",
      "\u001B[1;32m~\\AppData\\Local\\JetBrains\\Toolbox\\apps\\PyCharm-P\\ch-0\\203.7148.72\\plugins\\python\\helpers-pro\\jupyter_debug\\pydev_jupyter_plugin.py\u001B[0m in \u001B[0;36m_is_equals\u001B[1;34m(frame, other_frame)\u001B[0m\n\u001B[0;32m    122\u001B[0m \u001B[1;32mdef\u001B[0m \u001B[0m_is_equals\u001B[0m\u001B[1;33m(\u001B[0m\u001B[0mframe\u001B[0m\u001B[1;33m,\u001B[0m \u001B[0mother_frame\u001B[0m\u001B[1;33m)\u001B[0m\u001B[1;33m:\u001B[0m\u001B[1;33m\u001B[0m\u001B[1;33m\u001B[0m\u001B[0m\n\u001B[0;32m    123\u001B[0m     \u001B[1;31m# we can't compare frame directly, because Jupyter compiles ast nodes in cell separately\u001B[0m\u001B[1;33m\u001B[0m\u001B[1;33m\u001B[0m\u001B[1;33m\u001B[0m\u001B[0m\n\u001B[1;32m--> 124\u001B[1;33m     \u001B[1;32mreturn\u001B[0m \u001B[0mframe\u001B[0m\u001B[1;33m.\u001B[0m\u001B[0mf_code\u001B[0m\u001B[1;33m.\u001B[0m\u001B[0mco_filename\u001B[0m \u001B[1;33m==\u001B[0m \u001B[0mother_frame\u001B[0m\u001B[1;33m.\u001B[0m\u001B[0mf_code\u001B[0m\u001B[1;33m.\u001B[0m\u001B[0mco_filename\u001B[0m \u001B[1;32mand\u001B[0m\u001B[0;31m \u001B[0m\u001B[0;31m\\\u001B[0m\u001B[1;33m\u001B[0m\u001B[1;33m\u001B[0m\u001B[0m\n\u001B[0m\u001B[0;32m    125\u001B[0m            \u001B[0mframe\u001B[0m\u001B[1;33m.\u001B[0m\u001B[0mf_code\u001B[0m\u001B[1;33m.\u001B[0m\u001B[0mco_name\u001B[0m \u001B[1;33m==\u001B[0m \u001B[0mother_frame\u001B[0m\u001B[1;33m.\u001B[0m\u001B[0mf_code\u001B[0m\u001B[1;33m.\u001B[0m\u001B[0mco_name\u001B[0m\u001B[1;33m\u001B[0m\u001B[1;33m\u001B[0m\u001B[0m\n\u001B[0;32m    126\u001B[0m \u001B[1;33m\u001B[0m\u001B[0m\n",
      "\u001B[1;31mAttributeError\u001B[0m: 'NoneType' object has no attribute 'f_code'"
     ]
    }
   ],
   "source": [
    "from copy import deepcopy\n",
    "import random\n",
    "import numpy as np\n",
    "\n",
    "def initialize_population(pop_size):\n",
    "    return [([bool(v) for v in np.random.randint(2, size=91)], 0) for _ in range(pop_size)]\n",
    "\n",
    "def evaluate_fitness(ind):\n",
    "    pass\n",
    "\n",
    "def crossover(a, b, pop_size):\n",
    "    ix = [random.randint(0, pop_size) for _ in range(2)]\n",
    "    ix.sort()\n",
    "    a, b = deepcopy(a), deepcopy(b)\n",
    "    a[ix[0]:ix[1]], b[ix[0]:ix[1]] = b[ix[0]:ix[1]], a[ix[0]:ix[1]]\n",
    "    return a, b\n",
    "\n",
    "def mutate(ind):\n",
    "    pass\n",
    "\n",
    "def run(pop_size, n_generations, elitism=0.01, tournament_size=0.05):\n",
    "    # initialize\n",
    "    elitism = round(elitism*pop_size)\n",
    "    tournament_size = round(tournament_size*pop_size)\n",
    "    pop = initialize_population(pop_size)\n",
    "\n",
    "    # evolve population\n",
    "    for gen in range(n_generations):\n",
    "        # rank population\n",
    "        for ind in pop:\n",
    "            evaluate_fitness(ind)\n",
    "        pop.sort(reverse=True, key=lambda x: x[1])\n",
    "\n",
    "        # apply elitism\n",
    "        new_pop = [pop[i] for i in range(elitism)]\n",
    "\n",
    "        # do tournament selection with 2 winners, crossover to generate 2 children, mutate parents\n",
    "        while len(new_pop) < pop_size:\n",
    "            tournament = random.sample(pop, tournament_size)\n",
    "            tournament.sort(reverse=True, key=lambda x: x[1])\n",
    "            new_pop.append(crossover(tournament[0], tournament[1]))\n",
    "            new_pop.extend([mutate(tournament[0]), mutate(tournament[1])])\n",
    "\n",
    "        # if population > pop_size cutoff extras\n",
    "        new_pop = new_pop[:pop_size]\n",
    "\n",
    "run(10, 1)"
   ],
   "metadata": {
    "collapsed": false,
    "pycharm": {
     "name": "#%%\n"
    }
   }
  }
 ],
 "metadata": {
  "kernelspec": {
   "display_name": "Python 3",
   "language": "python",
   "name": "python3"
  },
  "language_info": {
   "codemirror_mode": {
    "name": "ipython",
    "version": 2
   },
   "file_extension": ".py",
   "mimetype": "text/x-python",
   "name": "python",
   "nbconvert_exporter": "python",
   "pygments_lexer": "ipython2",
   "version": "2.7.6"
  }
 },
 "nbformat": 4,
 "nbformat_minor": 0
}