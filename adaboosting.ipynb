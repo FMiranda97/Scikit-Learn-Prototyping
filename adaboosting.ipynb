{
 "cells": [
  {
   "cell_type": "code",
   "execution_count": 13,
   "metadata": {
    "collapsed": true,
    "pycharm": {
     "name": "#%%\n"
    }
   },
   "outputs": [
    {
     "name": "stdout",
     "output_type": "stream",
     "text": [
      "sorted by n_neighbors:\n",
      "   n_neighbors  fit_time  score_time  test_score\n",
      "0            5  0.030917    2.736697    0.326988\n",
      "1           10  0.017924    2.692663    0.317281\n",
      "2           20  0.016955    2.680941    0.309133\n",
      "3           50  0.017154    2.724994    0.298342\n",
      "4          200  0.018551    2.798264    0.252490\n",
      "5         1000  0.017952    3.420354    0.189520\n",
      "\n",
      "===============\n",
      "\n",
      "sorted by fit_time:\n",
      "   n_neighbors  fit_time  score_time  test_score\n",
      "2           20  0.016955    2.680941    0.309133\n",
      "3           50  0.017154    2.724994    0.298342\n",
      "1           10  0.017924    2.692663    0.317281\n",
      "5         1000  0.017952    3.420354    0.189520\n",
      "4          200  0.018551    2.798264    0.252490\n",
      "0            5  0.030917    2.736697    0.326988\n",
      "\n",
      "===============\n",
      "\n",
      "sorted by score_time:\n",
      "   n_neighbors  fit_time  score_time  test_score\n",
      "2           20  0.016955    2.680941    0.309133\n",
      "1           10  0.017924    2.692663    0.317281\n",
      "3           50  0.017154    2.724994    0.298342\n",
      "0            5  0.030917    2.736697    0.326988\n",
      "4          200  0.018551    2.798264    0.252490\n",
      "5         1000  0.017952    3.420354    0.189520\n",
      "\n",
      "===============\n",
      "\n",
      "sorted by test_score:\n",
      "   n_neighbors  fit_time  score_time  test_score\n",
      "5         1000  0.017952    3.420354    0.189520\n",
      "4          200  0.018551    2.798264    0.252490\n",
      "3           50  0.017154    2.724994    0.298342\n",
      "2           20  0.016955    2.680941    0.309133\n",
      "1           10  0.017924    2.692663    0.317281\n",
      "0            5  0.030917    2.736697    0.326988\n",
      "\n",
      "===============\n",
      "\n"
     ]
    }
   ],
   "source": [
    "from pandas import DataFrame\n",
    "from data_initialization import *\n",
    "from sklearn.linear_model import *\n",
    "from sklearn.model_selection import *\n",
    "from sklearn.ensemble import *\n",
    "from sklearn.neighbors import *\n",
    "\n",
    "results = {\n",
    "    'n_neighbors':[],\n",
    "    'fit_time':[],\n",
    "    'score_time':[],\n",
    "    'test_score':[],\n",
    "\n",
    "}\n",
    "X, y = get_data(\"c\", \"phone\", \"accel\")\n",
    "for n_neighbors in [5, 10, 20, 50, 200, 1000]:\n",
    "    results['n_neighbors'].append(n_neighbors)\n",
    "    model = KNeighborsClassifier(n_neighbors=n_neighbors, weights='uniform  ')\n",
    "    scores = cross_validate(model, X, y, n_jobs=-1)\n",
    "    for k, v in scores.items():\n",
    "        results[k].append(np.mean(v))\n",
    "\n",
    "df = DataFrame(results)\n",
    "for column in df.columns:\n",
    "    print(\"sorted by %s:\" % column)\n",
    "    with pd.option_context('display.max_rows', None, 'display.max_columns', None):  # more options can be specified also\n",
    "        print(df.sort_values(by=[column]))\n",
    "    print(\"\\n===============\\n\")"
   ]
  }
 ],
 "metadata": {
  "kernelspec": {
   "display_name": "Python 3",
   "language": "python",
   "name": "python3"
  },
  "language_info": {
   "codemirror_mode": {
    "name": "ipython",
    "version": 2
   },
   "file_extension": ".py",
   "mimetype": "text/x-python",
   "name": "python",
   "nbconvert_exporter": "python",
   "pygments_lexer": "ipython2",
   "version": "2.7.6"
  }
 },
 "nbformat": 4,
 "nbformat_minor": 0
}